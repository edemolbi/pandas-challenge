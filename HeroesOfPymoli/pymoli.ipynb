{
 "cells": [
  {
   "cell_type": "code",
   "execution_count": 2,
   "id": "bd2bc66d-d29a-4ae3-905e-c3ee3dc1d95b",
   "metadata": {},
   "outputs": [],
   "source": [
    " # Dependencies and Setup\n",
    "import pandas as pd\n",
    "\n",
    "# File to Load (Remember to Change These)\n",
    "file_to_load = \"purchase_data.csv\"\n",
    "\n",
    "# Read Purchasing File and store into Pandas data frame\n",
    "purchase_data = pd.read_csv(file_to_load)\n",
    "\n"
   ]
  },
  {
   "cell_type": "code",
   "execution_count": 5,
   "id": "81d246a4-ca54-45e1-abb7-a0467953cef8",
   "metadata": {},
   "outputs": [
    {
     "data": {
      "text/html": [
       "<div>\n",
       "<style scoped>\n",
       "    .dataframe tbody tr th:only-of-type {\n",
       "        vertical-align: middle;\n",
       "    }\n",
       "\n",
       "    .dataframe tbody tr th {\n",
       "        vertical-align: top;\n",
       "    }\n",
       "\n",
       "    .dataframe thead th {\n",
       "        text-align: right;\n",
       "    }\n",
       "</style>\n",
       "<table border=\"1\" class=\"dataframe\">\n",
       "  <thead>\n",
       "    <tr style=\"text-align: right;\">\n",
       "      <th></th>\n",
       "      <th>Purchase ID</th>\n",
       "      <th>SN</th>\n",
       "      <th>Age</th>\n",
       "      <th>Gender</th>\n",
       "      <th>Item ID</th>\n",
       "      <th>Item Name</th>\n",
       "      <th>Price</th>\n",
       "    </tr>\n",
       "  </thead>\n",
       "  <tbody>\n",
       "    <tr>\n",
       "      <th>0</th>\n",
       "      <td>0</td>\n",
       "      <td>Lisim78</td>\n",
       "      <td>20</td>\n",
       "      <td>Male</td>\n",
       "      <td>108</td>\n",
       "      <td>Extraction, Quickblade Of Trembling Hands</td>\n",
       "      <td>3.53</td>\n",
       "    </tr>\n",
       "    <tr>\n",
       "      <th>1</th>\n",
       "      <td>1</td>\n",
       "      <td>Lisovynya38</td>\n",
       "      <td>40</td>\n",
       "      <td>Male</td>\n",
       "      <td>143</td>\n",
       "      <td>Frenzied Scimitar</td>\n",
       "      <td>1.56</td>\n",
       "    </tr>\n",
       "    <tr>\n",
       "      <th>2</th>\n",
       "      <td>2</td>\n",
       "      <td>Ithergue48</td>\n",
       "      <td>24</td>\n",
       "      <td>Male</td>\n",
       "      <td>92</td>\n",
       "      <td>Final Critic</td>\n",
       "      <td>4.88</td>\n",
       "    </tr>\n",
       "    <tr>\n",
       "      <th>3</th>\n",
       "      <td>3</td>\n",
       "      <td>Chamassasya86</td>\n",
       "      <td>24</td>\n",
       "      <td>Male</td>\n",
       "      <td>100</td>\n",
       "      <td>Blindscythe</td>\n",
       "      <td>3.27</td>\n",
       "    </tr>\n",
       "    <tr>\n",
       "      <th>4</th>\n",
       "      <td>4</td>\n",
       "      <td>Iskosia90</td>\n",
       "      <td>23</td>\n",
       "      <td>Male</td>\n",
       "      <td>131</td>\n",
       "      <td>Fury</td>\n",
       "      <td>1.44</td>\n",
       "    </tr>\n",
       "  </tbody>\n",
       "</table>\n",
       "</div>"
      ],
      "text/plain": [
       "   Purchase ID             SN  Age Gender  Item ID  \\\n",
       "0            0        Lisim78   20   Male      108   \n",
       "1            1    Lisovynya38   40   Male      143   \n",
       "2            2     Ithergue48   24   Male       92   \n",
       "3            3  Chamassasya86   24   Male      100   \n",
       "4            4      Iskosia90   23   Male      131   \n",
       "\n",
       "                                   Item Name  Price  \n",
       "0  Extraction, Quickblade Of Trembling Hands   3.53  \n",
       "1                          Frenzied Scimitar   1.56  \n",
       "2                               Final Critic   4.88  \n",
       "3                                Blindscythe   3.27  \n",
       "4                                       Fury   1.44  "
      ]
     },
     "execution_count": 5,
     "metadata": {},
     "output_type": "execute_result"
    }
   ],
   "source": [
    "purchase_data.head()"
   ]
  },
  {
   "cell_type": "code",
   "execution_count": 37,
   "id": "17ffa00c-383c-4352-8111-55dc39703648",
   "metadata": {
    "tags": []
   },
   "outputs": [],
   "source": [
    "df = pd.DataFrame(purchase_data)\n"
   ]
  },
  {
   "cell_type": "code",
   "execution_count": 38,
   "id": "fe1aa8c9-1ca1-4bcc-83e4-167ef5c5eac9",
   "metadata": {},
   "outputs": [],
   "source": [
    "# Getting total count of players\n"
   ]
  },
  {
   "cell_type": "code",
   "execution_count": 73,
   "id": "df38cf60-49d4-4beb-b50f-28246d7fb7ce",
   "metadata": {
    "tags": []
   },
   "outputs": [],
   "source": [
    "player_count = purchase_data[\"SN\"].nunique()"
   ]
  },
  {
   "cell_type": "code",
   "execution_count": 74,
   "id": "596d20bb-5097-4255-b567-42c430160a02",
   "metadata": {},
   "outputs": [
    {
     "name": "stdout",
     "output_type": "stream",
     "text": [
      "576\n"
     ]
    }
   ],
   "source": [
    "print(player_count)"
   ]
  },
  {
   "cell_type": "code",
   "execution_count": 75,
   "id": "9ce8d24f-ac68-4510-b2ff-f30941c5c78b",
   "metadata": {},
   "outputs": [],
   "source": [
    "player_count = pd.DataFrame(\n",
    "    {\n",
    "        \"Player Count\" : [576]\n",
    "    }\n",
    ")"
   ]
  },
  {
   "cell_type": "code",
   "execution_count": 76,
   "id": "48be8e59-571d-47b8-8f5d-2d55228ad1f3",
   "metadata": {},
   "outputs": [
    {
     "name": "stdout",
     "output_type": "stream",
     "text": [
      "   Player Count\n",
      "0           576\n"
     ]
    }
   ],
   "source": [
    "print(player_count)"
   ]
  },
  {
   "cell_type": "code",
   "execution_count": 44,
   "id": "df07fb47-4889-49d9-b1a1-023ad5d9c860",
   "metadata": {},
   "outputs": [],
   "source": [
    "# Count number of unique item"
   ]
  },
  {
   "cell_type": "code",
   "execution_count": null,
   "id": "d47d1ad2-0376-4954-9449-7e735ae6a05f",
   "metadata": {},
   "outputs": [],
   "source": [
    "item_count = purchase_data[\"Item ID\"].nunique()"
   ]
  },
  {
   "cell_type": "code",
   "execution_count": 50,
   "id": "43dac7d5-1f22-4ad5-b26f-421ce9a06ffa",
   "metadata": {},
   "outputs": [
    {
     "name": "stdout",
     "output_type": "stream",
     "text": [
      "179\n"
     ]
    }
   ],
   "source": [
    "print(item_count)"
   ]
  },
  {
   "cell_type": "code",
   "execution_count": 45,
   "id": "5d0090bc-7b7b-4cd8-9b77-24abdec8a979",
   "metadata": {},
   "outputs": [],
   "source": [
    "# Getting total Revenue"
   ]
  },
  {
   "cell_type": "code",
   "execution_count": 46,
   "id": "28a9c671-a3d1-4c74-8918-f490158beb15",
   "metadata": {},
   "outputs": [],
   "source": [
    "total_revenue = df['Price'].sum()"
   ]
  },
  {
   "cell_type": "code",
   "execution_count": 47,
   "id": "d34515f9-b0b2-4b99-828f-0ade850ca974",
   "metadata": {},
   "outputs": [
    {
     "name": "stdout",
     "output_type": "stream",
     "text": [
      "2379.77\n"
     ]
    }
   ],
   "source": [
    "print(total_revenue)"
   ]
  },
  {
   "cell_type": "code",
   "execution_count": 48,
   "id": "6183b23a-9089-43bb-95e9-8d9d44b3650d",
   "metadata": {},
   "outputs": [],
   "source": [
    "average_price = total_revenue / 780"
   ]
  },
  {
   "cell_type": "code",
   "execution_count": 49,
   "id": "77681f75-643a-4428-aaaf-b21fbaa385ef",
   "metadata": {},
   "outputs": [
    {
     "name": "stdout",
     "output_type": "stream",
     "text": [
      "3.0509871794871795\n"
     ]
    }
   ],
   "source": [
    "print(average_price)"
   ]
  },
  {
   "cell_type": "code",
   "execution_count": 64,
   "id": "e4c16580-1f15-4ec8-b8ef-99d255ad77ed",
   "metadata": {},
   "outputs": [],
   "source": [
    "purchase_analysis = {\n",
    "    \"Number of Unique Items\" : [179],\n",
    "    \"Average Price\" : [3.05],\n",
    "    \"Number of Purchases\" : [780],\n",
    "    \"Total Revenue\" : [2379.77]\n",
    "}"
   ]
  },
  {
   "cell_type": "code",
   "execution_count": 60,
   "id": "f999bbe9-5e0e-451e-877b-a2ce9412779d",
   "metadata": {},
   "outputs": [
    {
     "name": "stdout",
     "output_type": "stream",
     "text": [
      "{'Number of Unique Items': [179.0], 'Average Price': [3.05], 'Number of Purchases': [780.0], 'Total Revenue': [2, 379.77]}\n"
     ]
    }
   ],
   "source": [
    "print(purchase_analysis)"
   ]
  },
  {
   "cell_type": "code",
   "execution_count": 65,
   "id": "e0a3fd42-9b7c-4747-a5fe-1107a2bd88dd",
   "metadata": {},
   "outputs": [],
   "source": [
    "summary_df = pd.DataFrame(purchase_analysis)"
   ]
  },
  {
   "cell_type": "code",
   "execution_count": 66,
   "id": "f9443a5c-b51c-4a81-a6cb-c18c7bee66e7",
   "metadata": {},
   "outputs": [
    {
     "name": "stdout",
     "output_type": "stream",
     "text": [
      "   Number of Unique Items  Average Price  Number of Purchases  Total Revenue\n",
      "0                     179           3.05                  780        2379.77\n"
     ]
    }
   ],
   "source": [
    "print(summary_df)"
   ]
  },
  {
   "cell_type": "code",
   "execution_count": null,
   "id": "2fc7d616-519d-4142-9c84-9134010d914c",
   "metadata": {},
   "outputs": [],
   "source": [
    "# Counting the total amount of male and female"
   ]
  },
  {
   "cell_type": "code",
   "execution_count": 69,
   "id": "e27d33bd-9d06-4f9f-b5c1-5958fc35879b",
   "metadata": {},
   "outputs": [],
   "source": [
    "# To get the unique number of players(SN), remove duplicates\n",
    "sn_unique = purchase_data.drop_duplicates(subset = \"SN\")\n",
    "\n",
    "# Count unique number of male, female and other players\n",
    "gender_count = sn_unique[\"Gender\"].value_counts()\n",
    "\n",
    "# Caluculate percentage of male, female and other player\n",
    "gender_percentage = gender_count / sn_unique[\"Gender\"].count() * 100"
   ]
  },
  {
   "cell_type": "code",
   "execution_count": 70,
   "id": "85305ed6-14a1-4155-8bf8-f252b1f26958",
   "metadata": {},
   "outputs": [
    {
     "name": "stdout",
     "output_type": "stream",
     "text": [
      "Male                     484\n",
      "Female                    81\n",
      "Other / Non-Disclosed     11\n",
      "Name: Gender, dtype: int64\n"
     ]
    }
   ],
   "source": [
    "print(gender_count)"
   ]
  },
  {
   "cell_type": "code",
   "execution_count": null,
   "id": "674b7a91-6c30-44dd-b271-d5600e58f79a",
   "metadata": {},
   "outputs": [],
   "source": [
    "#Creating gender demographics"
   ]
  },
  {
   "cell_type": "code",
   "execution_count": 85,
   "id": "28f6f0fd-926f-497b-ae2e-625e4cab7476",
   "metadata": {},
   "outputs": [],
   "source": [
    "gender_demographics = {\n",
    "    \"Total Count\": [484,81,11],\n",
    "    \"Percentage of Players\": [84.03,14.06,1.91]\n",
    "}"
   ]
  },
  {
   "cell_type": "code",
   "execution_count": 90,
   "id": "6106eac0-89ab-47e5-a479-df62e449c1f8",
   "metadata": {},
   "outputs": [],
   "source": [
    "gender_df[\"Percentage of Players\"] = gender_df[\"Percentage of Players\"].map(\"{0:.2f}%\".format)"
   ]
  },
  {
   "cell_type": "code",
   "execution_count": 92,
   "id": "d2050b25-8ff7-49e8-b28f-1722ad8077f2",
   "metadata": {},
   "outputs": [
    {
     "name": "stdout",
     "output_type": "stream",
     "text": [
      "                     Total Count Percentage of Players\n",
      "Male                         484                84.03%\n",
      "Female                        81                14.06%\n",
      "Other/Non-Disclosed           11                 1.91%\n"
     ]
    }
   ],
   "source": [
    "print(gender_df)"
   ]
  },
  {
   "cell_type": "code",
   "execution_count": 93,
   "id": "ee5d7ed8-1827-429e-a828-64baa334c545",
   "metadata": {},
   "outputs": [],
   "source": [
    "# Purchassing Analysis"
   ]
  },
  {
   "cell_type": "code",
   "execution_count": 97,
   "id": "83769439-0993-445b-9711-1d0205fcdf3c",
   "metadata": {},
   "outputs": [],
   "source": [
    "# Count number of purchases by gender (use purchase_data df to calculate whole data)\n",
    "purchase_count_gender = purchase_data.groupby(\"Gender\")[\"Item Name\"].count()\n",
    "\n",
    "# Caluculate average price spent by gender\n",
    "average_price_gender = purchase_data.groupby(\"Gender\")[\"Price\"].mean()\n",
    "\n",
    "# Caluculate total price spent by gender\n",
    "total_price_gender = purchase_data.groupby(\"Gender\")[\"Price\"].sum()\n",
    "\n",
    "# Caluculate aveage price spent by person (use gender_count to get unique SN ID)\n",
    "average_total_gender = total_revenue / gender_count"
   ]
  },
  {
   "cell_type": "code",
   "execution_count": 98,
   "id": "9ebca440-087a-4f51-b241-af58ac00b78b",
   "metadata": {},
   "outputs": [
    {
     "data": {
      "text/html": [
       "<div>\n",
       "<style scoped>\n",
       "    .dataframe tbody tr th:only-of-type {\n",
       "        vertical-align: middle;\n",
       "    }\n",
       "\n",
       "    .dataframe tbody tr th {\n",
       "        vertical-align: top;\n",
       "    }\n",
       "\n",
       "    .dataframe thead th {\n",
       "        text-align: right;\n",
       "    }\n",
       "</style>\n",
       "<table border=\"1\" class=\"dataframe\">\n",
       "  <thead>\n",
       "    <tr style=\"text-align: right;\">\n",
       "      <th></th>\n",
       "      <th>Purchase Count</th>\n",
       "      <th>Average Purchase Price</th>\n",
       "      <th>Total Purchase Value</th>\n",
       "      <th>Avg Total Purchase per Person</th>\n",
       "    </tr>\n",
       "  </thead>\n",
       "  <tbody>\n",
       "    <tr>\n",
       "      <th>Female</th>\n",
       "      <td>113</td>\n",
       "      <td>$3.20</td>\n",
       "      <td>$361.94</td>\n",
       "      <td>$29.38</td>\n",
       "    </tr>\n",
       "    <tr>\n",
       "      <th>Male</th>\n",
       "      <td>652</td>\n",
       "      <td>$3.02</td>\n",
       "      <td>$1967.64</td>\n",
       "      <td>$4.92</td>\n",
       "    </tr>\n",
       "    <tr>\n",
       "      <th>Other / Non-Disclosed</th>\n",
       "      <td>15</td>\n",
       "      <td>$3.35</td>\n",
       "      <td>$50.19</td>\n",
       "      <td>$216.34</td>\n",
       "    </tr>\n",
       "  </tbody>\n",
       "</table>\n",
       "</div>"
      ],
      "text/plain": [
       "                       Purchase Count Average Purchase Price  \\\n",
       "Female                            113                  $3.20   \n",
       "Male                              652                  $3.02   \n",
       "Other / Non-Disclosed              15                  $3.35   \n",
       "\n",
       "                      Total Purchase Value Avg Total Purchase per Person  \n",
       "Female                             $361.94                        $29.38  \n",
       "Male                              $1967.64                         $4.92  \n",
       "Other / Non-Disclosed               $50.19                       $216.34  "
      ]
     },
     "execution_count": 98,
     "metadata": {},
     "output_type": "execute_result"
    }
   ],
   "source": [
    "# Create a summary\n",
    "purchase_summary_df = pd.DataFrame({\"Purchase Count\": purchase_count_gender,\n",
    "                                    \"Average Purchase Price\" : average_price_gender,\n",
    "                                    \"Total Purchase Value\": total_price_gender,\n",
    "                                    \"Avg Total Purchase per Person\" : average_total_gender})\n",
    "# Change format to currency\n",
    "purchase_summary_df[[\"Average Purchase Price\",\"Total Purchase Value\",\"Avg Total Purchase per Person\"]] \\\n",
    "= purchase_summary_df[[\"Average Purchase Price\",\"Total Purchase Value\",\"Avg Total Purchase per Person\"]] \\\n",
    ".applymap(\"${:.2f}\".format)\n",
    "\n",
    "# Show the summary\n",
    "purchase_summary_df\n"
   ]
  },
  {
   "cell_type": "code",
   "execution_count": 99,
   "id": "393b6693-f5d5-4fe7-9c5f-8af737ca3b52",
   "metadata": {},
   "outputs": [],
   "source": [
    "#Age demographics"
   ]
  },
  {
   "cell_type": "code",
   "execution_count": 100,
   "id": "ad57b0bb-3bfd-49a7-8116-9988634a61ce",
   "metadata": {},
   "outputs": [
    {
     "name": "stderr",
     "output_type": "stream",
     "text": [
      "<ipython-input-100-1647ba1a2543>:5: SettingWithCopyWarning: \n",
      "A value is trying to be set on a copy of a slice from a DataFrame.\n",
      "Try using .loc[row_indexer,col_indexer] = value instead\n",
      "\n",
      "See the caveats in the documentation: https://pandas.pydata.org/pandas-docs/stable/user_guide/indexing.html#returning-a-view-versus-a-copy\n",
      "  sn_unique[\"Age Range\"] = pd.cut(sn_unique[\"Age\"], bins, labels = age_group)\n"
     ]
    },
    {
     "data": {
      "text/html": [
       "<div>\n",
       "<style scoped>\n",
       "    .dataframe tbody tr th:only-of-type {\n",
       "        vertical-align: middle;\n",
       "    }\n",
       "\n",
       "    .dataframe tbody tr th {\n",
       "        vertical-align: top;\n",
       "    }\n",
       "\n",
       "    .dataframe thead th {\n",
       "        text-align: right;\n",
       "    }\n",
       "</style>\n",
       "<table border=\"1\" class=\"dataframe\">\n",
       "  <thead>\n",
       "    <tr style=\"text-align: right;\">\n",
       "      <th></th>\n",
       "      <th>Total Count</th>\n",
       "      <th>Percentage of Players</th>\n",
       "    </tr>\n",
       "  </thead>\n",
       "  <tbody>\n",
       "    <tr>\n",
       "      <th>&lt;10</th>\n",
       "      <td>17</td>\n",
       "      <td>2.95%</td>\n",
       "    </tr>\n",
       "    <tr>\n",
       "      <th>10-14</th>\n",
       "      <td>22</td>\n",
       "      <td>3.82%</td>\n",
       "    </tr>\n",
       "    <tr>\n",
       "      <th>15-19</th>\n",
       "      <td>107</td>\n",
       "      <td>18.58%</td>\n",
       "    </tr>\n",
       "    <tr>\n",
       "      <th>20-24</th>\n",
       "      <td>258</td>\n",
       "      <td>44.79%</td>\n",
       "    </tr>\n",
       "    <tr>\n",
       "      <th>25-29</th>\n",
       "      <td>77</td>\n",
       "      <td>13.37%</td>\n",
       "    </tr>\n",
       "    <tr>\n",
       "      <th>30-34</th>\n",
       "      <td>52</td>\n",
       "      <td>9.03%</td>\n",
       "    </tr>\n",
       "    <tr>\n",
       "      <th>35-39</th>\n",
       "      <td>31</td>\n",
       "      <td>5.38%</td>\n",
       "    </tr>\n",
       "    <tr>\n",
       "      <th>40+</th>\n",
       "      <td>12</td>\n",
       "      <td>2.08%</td>\n",
       "    </tr>\n",
       "  </tbody>\n",
       "</table>\n",
       "</div>"
      ],
      "text/plain": [
       "       Total Count Percentage of Players\n",
       "<10             17                 2.95%\n",
       "10-14           22                 3.82%\n",
       "15-19          107                18.58%\n",
       "20-24          258                44.79%\n",
       "25-29           77                13.37%\n",
       "30-34           52                 9.03%\n",
       "35-39           31                 5.38%\n",
       "40+             12                 2.08%"
      ]
     },
     "execution_count": 100,
     "metadata": {},
     "output_type": "execute_result"
    }
   ],
   "source": [
    "bins = [0,9,14,19,24,29,34,39,100]\n",
    "age_group = [\"<10\",\"10-14\",\"15-19\",\"20-24\",\"25-29\",\"30-34\",\"35-39\",\"40+\"]\n",
    "\n",
    "# Categorize the existing players using the age bins. \n",
    "sn_unique[\"Age Range\"] = pd.cut(sn_unique[\"Age\"], bins, labels = age_group)\n",
    "# Count # of purchase by age\n",
    "purchase_count_age = sn_unique[\"Age Range\"].value_counts()\n",
    "\n",
    "# Caluculate percent of players by age\n",
    "percentage_player_age = (purchase_count_age / sn_unique[\"SN\"].count()) * 100\n",
    "# Create age summary\n",
    "age_summary_df = pd.DataFrame({\"Total Count\" : purchase_count_age,\n",
    "                               \"Percentage of Players\" : percentage_player_age})\n",
    "\n",
    "# Sort by index \n",
    "age_summary_df = age_summary_df.sort_index()\n",
    "\n",
    "# Change the format to percentage\n",
    "age_summary_df[\"Percentage of Players\"] = age_summary_df[\"Percentage of Players\"].map(\"{:.2f}%\".format)\n",
    "\n",
    "# Show the summary\n",
    "age_summary_df"
   ]
  },
  {
   "cell_type": "code",
   "execution_count": 101,
   "id": "651daa6f-266d-4067-a99e-7a9ec6d989be",
   "metadata": {},
   "outputs": [],
   "source": [
    "# Creating  purchasing analysis (Age)"
   ]
  },
  {
   "cell_type": "code",
   "execution_count": 102,
   "id": "612bb162-c648-49cf-891f-f737eb58977d",
   "metadata": {},
   "outputs": [
    {
     "data": {
      "text/html": [
       "<div>\n",
       "<style scoped>\n",
       "    .dataframe tbody tr th:only-of-type {\n",
       "        vertical-align: middle;\n",
       "    }\n",
       "\n",
       "    .dataframe tbody tr th {\n",
       "        vertical-align: top;\n",
       "    }\n",
       "\n",
       "    .dataframe thead th {\n",
       "        text-align: right;\n",
       "    }\n",
       "</style>\n",
       "<table border=\"1\" class=\"dataframe\">\n",
       "  <thead>\n",
       "    <tr style=\"text-align: right;\">\n",
       "      <th></th>\n",
       "      <th>Purchase Count</th>\n",
       "      <th>Average Purchase Price</th>\n",
       "      <th>Total Purchase Value</th>\n",
       "      <th>Avg Total Purchase per Person</th>\n",
       "    </tr>\n",
       "    <tr>\n",
       "      <th>Age Ranges</th>\n",
       "      <th></th>\n",
       "      <th></th>\n",
       "      <th></th>\n",
       "      <th></th>\n",
       "    </tr>\n",
       "  </thead>\n",
       "  <tbody>\n",
       "    <tr>\n",
       "      <th>&lt;10</th>\n",
       "      <td>23</td>\n",
       "      <td>$3.35</td>\n",
       "      <td>$77.13</td>\n",
       "      <td>$4.54</td>\n",
       "    </tr>\n",
       "    <tr>\n",
       "      <th>10-14</th>\n",
       "      <td>28</td>\n",
       "      <td>$2.96</td>\n",
       "      <td>$82.78</td>\n",
       "      <td>$3.76</td>\n",
       "    </tr>\n",
       "    <tr>\n",
       "      <th>15-19</th>\n",
       "      <td>136</td>\n",
       "      <td>$3.04</td>\n",
       "      <td>$412.89</td>\n",
       "      <td>$3.86</td>\n",
       "    </tr>\n",
       "    <tr>\n",
       "      <th>20-24</th>\n",
       "      <td>365</td>\n",
       "      <td>$3.05</td>\n",
       "      <td>$1114.06</td>\n",
       "      <td>$4.32</td>\n",
       "    </tr>\n",
       "    <tr>\n",
       "      <th>25-29</th>\n",
       "      <td>101</td>\n",
       "      <td>$2.90</td>\n",
       "      <td>$293.00</td>\n",
       "      <td>$3.81</td>\n",
       "    </tr>\n",
       "    <tr>\n",
       "      <th>30-34</th>\n",
       "      <td>73</td>\n",
       "      <td>$2.93</td>\n",
       "      <td>$214.00</td>\n",
       "      <td>$4.12</td>\n",
       "    </tr>\n",
       "    <tr>\n",
       "      <th>35-39</th>\n",
       "      <td>41</td>\n",
       "      <td>$3.60</td>\n",
       "      <td>$147.67</td>\n",
       "      <td>$4.76</td>\n",
       "    </tr>\n",
       "    <tr>\n",
       "      <th>40+</th>\n",
       "      <td>13</td>\n",
       "      <td>$2.94</td>\n",
       "      <td>$38.24</td>\n",
       "      <td>$3.19</td>\n",
       "    </tr>\n",
       "  </tbody>\n",
       "</table>\n",
       "</div>"
      ],
      "text/plain": [
       "            Purchase Count Average Purchase Price Total Purchase Value  \\\n",
       "Age Ranges                                                               \n",
       "<10                     23                  $3.35               $77.13   \n",
       "10-14                   28                  $2.96               $82.78   \n",
       "15-19                  136                  $3.04              $412.89   \n",
       "20-24                  365                  $3.05             $1114.06   \n",
       "25-29                  101                  $2.90              $293.00   \n",
       "30-34                   73                  $2.93              $214.00   \n",
       "35-39                   41                  $3.60              $147.67   \n",
       "40+                     13                  $2.94               $38.24   \n",
       "\n",
       "           Avg Total Purchase per Person  \n",
       "Age Ranges                                \n",
       "<10                                $4.54  \n",
       "10-14                              $3.76  \n",
       "15-19                              $3.86  \n",
       "20-24                              $4.32  \n",
       "25-29                              $3.81  \n",
       "30-34                              $4.12  \n",
       "35-39                              $4.76  \n",
       "40+                                $3.19  "
      ]
     },
     "execution_count": 102,
     "metadata": {},
     "output_type": "execute_result"
    }
   ],
   "source": [
    "# Categorize the existing players using the age bins. \n",
    "purchase_data[\"Age Ranges\"] = pd.cut(purchase_data[\"Age\"], bins, labels = age_group)\n",
    "purchase_age_count = purchase_data[\"Age Ranges\"].value_counts()\n",
    "\n",
    "# Calculate average purchase price by age\n",
    "average_price = purchase_data.groupby(\"Age Ranges\")[\"Price\"].mean()\n",
    "\n",
    "# Calculate total purchase value by age\n",
    "total_purchase_age = purchase_data.groupby(\"Age Ranges\")[\"Price\"].sum()\n",
    "\n",
    "# Calculate average total purchase per person\n",
    "average_purchase_age = total_purchase_age / purchase_count_age\n",
    "# Create summary\n",
    "purchase_summary_age = pd.DataFrame({\"Purchase Count\" : purchase_age_count,\n",
    "                                     \"Average Purchase Price\" : average_price,\n",
    "                                     \"Total Purchase Value\" : total_purchase_age,\n",
    "                                     \"Avg Total Purchase per Person\" : average_purchase_age})\n",
    "\n",
    "\n",
    "# Change the format to currency\n",
    "purchase_summary_age[[\"Average Purchase Price\",\"Total Purchase Value\",\"Avg Total Purchase per Person\"]] \\\n",
    "= purchase_summary_age[[\"Average Purchase Price\",\"Total Purchase Value\",\"Avg Total Purchase per Person\"]] \\\n",
    ".applymap(\"${:.2f}\".format) \n",
    "\n",
    "# Rename the axis to show data label \"Age Ranges\"\n",
    "purchase_summary_age = purchase_summary_age.rename_axis(\"Age Ranges\")\n",
    "\n",
    "# Display the summary \n",
    "purchase_summary_age"
   ]
  },
  {
   "cell_type": "code",
   "execution_count": 103,
   "id": "ae7fc33c-a1df-4c38-b22e-21ac90c9a9c1",
   "metadata": {},
   "outputs": [],
   "source": [
    "# Creating top spenders"
   ]
  },
  {
   "cell_type": "code",
   "execution_count": 104,
   "id": "0f13724c-31b8-4840-9ef9-4c257befbe99",
   "metadata": {},
   "outputs": [
    {
     "data": {
      "text/html": [
       "<div>\n",
       "<style scoped>\n",
       "    .dataframe tbody tr th:only-of-type {\n",
       "        vertical-align: middle;\n",
       "    }\n",
       "\n",
       "    .dataframe tbody tr th {\n",
       "        vertical-align: top;\n",
       "    }\n",
       "\n",
       "    .dataframe thead th {\n",
       "        text-align: right;\n",
       "    }\n",
       "</style>\n",
       "<table border=\"1\" class=\"dataframe\">\n",
       "  <thead>\n",
       "    <tr style=\"text-align: right;\">\n",
       "      <th></th>\n",
       "      <th>Purchase Count</th>\n",
       "      <th>Average Purchase Price</th>\n",
       "      <th>Total Purchase Value</th>\n",
       "    </tr>\n",
       "    <tr>\n",
       "      <th>SN</th>\n",
       "      <th></th>\n",
       "      <th></th>\n",
       "      <th></th>\n",
       "    </tr>\n",
       "  </thead>\n",
       "  <tbody>\n",
       "    <tr>\n",
       "      <th>Lisosia93</th>\n",
       "      <td>5</td>\n",
       "      <td>$3.79</td>\n",
       "      <td>$18.96</td>\n",
       "    </tr>\n",
       "    <tr>\n",
       "      <th>Idastidru52</th>\n",
       "      <td>4</td>\n",
       "      <td>$3.86</td>\n",
       "      <td>$15.45</td>\n",
       "    </tr>\n",
       "    <tr>\n",
       "      <th>Chamjask73</th>\n",
       "      <td>3</td>\n",
       "      <td>$4.61</td>\n",
       "      <td>$13.83</td>\n",
       "    </tr>\n",
       "    <tr>\n",
       "      <th>Iral74</th>\n",
       "      <td>4</td>\n",
       "      <td>$3.40</td>\n",
       "      <td>$13.62</td>\n",
       "    </tr>\n",
       "    <tr>\n",
       "      <th>Iskadarya95</th>\n",
       "      <td>3</td>\n",
       "      <td>$4.37</td>\n",
       "      <td>$13.10</td>\n",
       "    </tr>\n",
       "  </tbody>\n",
       "</table>\n",
       "</div>"
      ],
      "text/plain": [
       "             Purchase Count Average Purchase Price Total Purchase Value\n",
       "SN                                                                     \n",
       "Lisosia93                 5                  $3.79               $18.96\n",
       "Idastidru52               4                  $3.86               $15.45\n",
       "Chamjask73                3                  $4.61               $13.83\n",
       "Iral74                    4                  $3.40               $13.62\n",
       "Iskadarya95               3                  $4.37               $13.10"
      ]
     },
     "execution_count": 104,
     "metadata": {},
     "output_type": "execute_result"
    }
   ],
   "source": [
    "# Count the purchase count(frequency) by user\n",
    "purchase_count_user = purchase_data.groupby(\"SN\")[\"Price\"].count()\n",
    "\n",
    "# Caluculate average price spent by user\n",
    "purchase_price_user = purchase_data.groupby(\"SN\")[\"Price\"].mean()\n",
    "\n",
    "# Calculate total price spent by user\n",
    "total_purchase_user = purchase_data.groupby(\"SN\")[\"Price\"].sum()\n",
    "\n",
    "# Create a summary\n",
    "user_summary = pd.DataFrame({\"Purchase Count\" : purchase_count_user,\n",
    "                             \"Average Purchase Price\": purchase_price_user,\n",
    "                             \"Total Purchase Value\": total_purchase_user})\n",
    "\n",
    "# Sort by total purchase value\n",
    "user_summary = user_summary.sort_values(by = \"Total Purchase Value\",ascending = False)\n",
    "\n",
    "# Change the format to currency\n",
    "user_summary[[\"Average Purchase Price\",\"Total Purchase Value\"]] \\\n",
    "= user_summary[[\"Average Purchase Price\",\"Total Purchase Value\"]].applymap(\"${:.2f}\".format)\n",
    "\n",
    "# Display the summary\n",
    "user_summary.head()"
   ]
  },
  {
   "cell_type": "code",
   "execution_count": 105,
   "id": "cceb7b6c-90eb-4781-b7bb-196788bacc27",
   "metadata": {},
   "outputs": [],
   "source": [
    "# Creating most popular items"
   ]
  },
  {
   "cell_type": "code",
   "execution_count": 106,
   "id": "233bf71a-fd64-435e-a9c9-da631b1acb60",
   "metadata": {},
   "outputs": [
    {
     "data": {
      "text/html": [
       "<div>\n",
       "<style scoped>\n",
       "    .dataframe tbody tr th:only-of-type {\n",
       "        vertical-align: middle;\n",
       "    }\n",
       "\n",
       "    .dataframe tbody tr th {\n",
       "        vertical-align: top;\n",
       "    }\n",
       "\n",
       "    .dataframe thead th {\n",
       "        text-align: right;\n",
       "    }\n",
       "</style>\n",
       "<table border=\"1\" class=\"dataframe\">\n",
       "  <thead>\n",
       "    <tr style=\"text-align: right;\">\n",
       "      <th></th>\n",
       "      <th></th>\n",
       "      <th>Purchase Count</th>\n",
       "      <th>Item Price</th>\n",
       "      <th>Total Purchase Value</th>\n",
       "    </tr>\n",
       "    <tr>\n",
       "      <th>Item ID</th>\n",
       "      <th>Item Name</th>\n",
       "      <th></th>\n",
       "      <th></th>\n",
       "      <th></th>\n",
       "    </tr>\n",
       "  </thead>\n",
       "  <tbody>\n",
       "    <tr>\n",
       "      <th>92</th>\n",
       "      <th>Final Critic</th>\n",
       "      <td>13</td>\n",
       "      <td>$4.61</td>\n",
       "      <td>$59.99</td>\n",
       "    </tr>\n",
       "    <tr>\n",
       "      <th>178</th>\n",
       "      <th>Oathbreaker, Last Hope of the Breaking Storm</th>\n",
       "      <td>12</td>\n",
       "      <td>$4.23</td>\n",
       "      <td>$50.76</td>\n",
       "    </tr>\n",
       "    <tr>\n",
       "      <th>145</th>\n",
       "      <th>Fiery Glass Crusader</th>\n",
       "      <td>9</td>\n",
       "      <td>$4.58</td>\n",
       "      <td>$41.22</td>\n",
       "    </tr>\n",
       "    <tr>\n",
       "      <th>132</th>\n",
       "      <th>Persuasion</th>\n",
       "      <td>9</td>\n",
       "      <td>$3.22</td>\n",
       "      <td>$28.99</td>\n",
       "    </tr>\n",
       "    <tr>\n",
       "      <th>108</th>\n",
       "      <th>Extraction, Quickblade Of Trembling Hands</th>\n",
       "      <td>9</td>\n",
       "      <td>$3.53</td>\n",
       "      <td>$31.77</td>\n",
       "    </tr>\n",
       "  </tbody>\n",
       "</table>\n",
       "</div>"
      ],
      "text/plain": [
       "                                                      Purchase Count  \\\n",
       "Item ID Item Name                                                      \n",
       "92      Final Critic                                              13   \n",
       "178     Oathbreaker, Last Hope of the Breaking Storm              12   \n",
       "145     Fiery Glass Crusader                                       9   \n",
       "132     Persuasion                                                 9   \n",
       "108     Extraction, Quickblade Of Trembling Hands                  9   \n",
       "\n",
       "                                                     Item Price  \\\n",
       "Item ID Item Name                                                 \n",
       "92      Final Critic                                      $4.61   \n",
       "178     Oathbreaker, Last Hope of the Breaking Storm      $4.23   \n",
       "145     Fiery Glass Crusader                              $4.58   \n",
       "132     Persuasion                                        $3.22   \n",
       "108     Extraction, Quickblade Of Trembling Hands         $3.53   \n",
       "\n",
       "                                                     Total Purchase Value  \n",
       "Item ID Item Name                                                          \n",
       "92      Final Critic                                               $59.99  \n",
       "178     Oathbreaker, Last Hope of the Breaking Storm               $50.76  \n",
       "145     Fiery Glass Crusader                                       $41.22  \n",
       "132     Persuasion                                                 $28.99  \n",
       "108     Extraction, Quickblade Of Trembling Hands                  $31.77  "
      ]
     },
     "execution_count": 106,
     "metadata": {},
     "output_type": "execute_result"
    }
   ],
   "source": [
    "# Retrieve the most popular items by item ID count\n",
    "most_purchased_item = purchase_data.groupby([\"Item ID\",\"Item Name\"])[\"Price\"].count()\n",
    "\n",
    "# Retrive the total sales amount by item ID and Item Name\n",
    "popular_item = purchase_data.groupby([\"Item ID\",\"Item Name\"])[\"Price\"].sum()\n",
    "\n",
    "# Retrive the item price\n",
    "item_price = popular_item / most_purchased_item\n",
    "# Create a summary\n",
    "item_summary = pd.DataFrame({\"Purchase Count\": most_purchased_item,\n",
    "                             \"Item Price\" : item_price,\n",
    "                             \"Total Purchase Value\": popular_item})\n",
    "\n",
    "# Sort by purchase count\n",
    "item_summary = item_summary.sort_values(\"Purchase Count\", ascending = False)\n",
    "\n",
    "# Sort by total purchase value (do this before changing the format to currency to avoid changing types to string)\n",
    "highest_purchase_value = item_summary.sort_values(\"Total Purchase Value\", ascending = False)\n",
    "\n",
    "# Change the format to currency\n",
    "item_summary[[\"Item Price\", \"Total Purchase Value\"]] \\\n",
    "= item_summary[[\"Item Price\", \"Total Purchase Value\"]].applymap(\"${:.2f}\".format)\n",
    "\n",
    "# Display the summary\n",
    "item_summary.head()"
   ]
  },
  {
   "cell_type": "code",
   "execution_count": 107,
   "id": "c823d34d-585e-4cff-a2fd-510d163cab4b",
   "metadata": {},
   "outputs": [],
   "source": [
    "# Creating most profitable items"
   ]
  },
  {
   "cell_type": "code",
   "execution_count": 108,
   "id": "8683846b-e611-4829-9254-68737de31e8a",
   "metadata": {},
   "outputs": [
    {
     "data": {
      "text/html": [
       "<div>\n",
       "<style scoped>\n",
       "    .dataframe tbody tr th:only-of-type {\n",
       "        vertical-align: middle;\n",
       "    }\n",
       "\n",
       "    .dataframe tbody tr th {\n",
       "        vertical-align: top;\n",
       "    }\n",
       "\n",
       "    .dataframe thead th {\n",
       "        text-align: right;\n",
       "    }\n",
       "</style>\n",
       "<table border=\"1\" class=\"dataframe\">\n",
       "  <thead>\n",
       "    <tr style=\"text-align: right;\">\n",
       "      <th></th>\n",
       "      <th></th>\n",
       "      <th>Purchase Count</th>\n",
       "      <th>Item Price</th>\n",
       "      <th>Total Purchase Value</th>\n",
       "    </tr>\n",
       "    <tr>\n",
       "      <th>Item ID</th>\n",
       "      <th>Item Name</th>\n",
       "      <th></th>\n",
       "      <th></th>\n",
       "      <th></th>\n",
       "    </tr>\n",
       "  </thead>\n",
       "  <tbody>\n",
       "    <tr>\n",
       "      <th>92</th>\n",
       "      <th>Final Critic</th>\n",
       "      <td>13</td>\n",
       "      <td>$4.61</td>\n",
       "      <td>$59.99</td>\n",
       "    </tr>\n",
       "    <tr>\n",
       "      <th>178</th>\n",
       "      <th>Oathbreaker, Last Hope of the Breaking Storm</th>\n",
       "      <td>12</td>\n",
       "      <td>$4.23</td>\n",
       "      <td>$50.76</td>\n",
       "    </tr>\n",
       "    <tr>\n",
       "      <th>82</th>\n",
       "      <th>Nirvana</th>\n",
       "      <td>9</td>\n",
       "      <td>$4.90</td>\n",
       "      <td>$44.10</td>\n",
       "    </tr>\n",
       "    <tr>\n",
       "      <th>145</th>\n",
       "      <th>Fiery Glass Crusader</th>\n",
       "      <td>9</td>\n",
       "      <td>$4.58</td>\n",
       "      <td>$41.22</td>\n",
       "    </tr>\n",
       "    <tr>\n",
       "      <th>103</th>\n",
       "      <th>Singed Scalpel</th>\n",
       "      <td>8</td>\n",
       "      <td>$4.35</td>\n",
       "      <td>$34.80</td>\n",
       "    </tr>\n",
       "  </tbody>\n",
       "</table>\n",
       "</div>"
      ],
      "text/plain": [
       "                                                      Purchase Count  \\\n",
       "Item ID Item Name                                                      \n",
       "92      Final Critic                                              13   \n",
       "178     Oathbreaker, Last Hope of the Breaking Storm              12   \n",
       "82      Nirvana                                                    9   \n",
       "145     Fiery Glass Crusader                                       9   \n",
       "103     Singed Scalpel                                             8   \n",
       "\n",
       "                                                     Item Price  \\\n",
       "Item ID Item Name                                                 \n",
       "92      Final Critic                                      $4.61   \n",
       "178     Oathbreaker, Last Hope of the Breaking Storm      $4.23   \n",
       "82      Nirvana                                           $4.90   \n",
       "145     Fiery Glass Crusader                              $4.58   \n",
       "103     Singed Scalpel                                    $4.35   \n",
       "\n",
       "                                                     Total Purchase Value  \n",
       "Item ID Item Name                                                          \n",
       "92      Final Critic                                               $59.99  \n",
       "178     Oathbreaker, Last Hope of the Breaking Storm               $50.76  \n",
       "82      Nirvana                                                    $44.10  \n",
       "145     Fiery Glass Crusader                                       $41.22  \n",
       "103     Singed Scalpel                                             $34.80  "
      ]
     },
     "execution_count": 108,
     "metadata": {},
     "output_type": "execute_result"
    }
   ],
   "source": [
    "# Change the format to currency\n",
    "highest_purchase_value[[\"Item Price\", \"Total Purchase Value\"]] \\\n",
    "= highest_purchase_value[[\"Item Price\", \"Total Purchase Value\"]].applymap(\"${:.2f}\".format)\n",
    "\n",
    "# Show the result\n",
    "highest_purchase_value.head()"
   ]
  },
  {
   "cell_type": "code",
   "execution_count": null,
   "id": "f067771b-c5b0-4c2a-b793-a0146cb56f3c",
   "metadata": {},
   "outputs": [],
   "source": []
  }
 ],
 "metadata": {
  "kernelspec": {
   "display_name": "Python 3",
   "language": "python",
   "name": "python3"
  },
  "language_info": {
   "codemirror_mode": {
    "name": "ipython",
    "version": 3
   },
   "file_extension": ".py",
   "mimetype": "text/x-python",
   "name": "python",
   "nbconvert_exporter": "python",
   "pygments_lexer": "ipython3",
   "version": "3.8.8"
  },
  "widgets": {
   "application/vnd.jupyter.widget-state+json": {
    "state": {},
    "version_major": 2,
    "version_minor": 0
   }
  }
 },
 "nbformat": 4,
 "nbformat_minor": 5
}
